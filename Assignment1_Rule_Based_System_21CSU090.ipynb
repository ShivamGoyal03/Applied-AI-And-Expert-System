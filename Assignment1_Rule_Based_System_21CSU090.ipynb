{
  "cells": [
    {
      "cell_type": "markdown",
      "metadata": {
        "id": "5r2msEl9py3R"
      },
      "source": [
        "<b>The Problem Statement</b>:\n",
        "\n",
        "You are tasked with creating a simple rule-based pet care assistant in Python. The goal is to develop a basic program that provides helpful reminders and suggestions for taking care of different types of pets, such as dogs, cats, and birds, based on predefined rules.\n",
        "\n",
        "<b>Some Rules to get you started</b>:\n",
        "\n",
        "*Example of a rule for dogs:* If the dog is a puppy (i.e. less than 2 years old) frequent training may be needed.\n",
        "\n",
        "*Example of a rule for cats:* If the cat's health is poor one may needed onitor their cat closely and consult a vet for any health issues."
      ]
    },
    {
      "cell_type": "markdown",
      "metadata": {
        "id": "hi0nFuvoppT9"
      },
      "source": [
        "## The Code"
      ]
    },
    {
      "cell_type": "markdown",
      "metadata": {
        "id": "WZrvsX8_ri3a"
      },
      "source": [
        "### Function to get the user's pet choice"
      ]
    },
    {
      "cell_type": "code",
      "execution_count": 1,
      "metadata": {
        "id": "eZOS63c-rij3"
      },
      "outputs": [],
      "source": [
        "# # Function to get the user's pet choice\n",
        "# def get_pet_choice():\n",
        "#   printf(\"dog\", 'cat', 'parrot', )\n",
        "#     \"\"\"\n",
        "#     TODO: Implement this function to display the pet options and return the user's choice.\n",
        "#     The function should prompt the user to select the type of pet (e.g., dog, cat, bird) and\n",
        "#     return the corresponding number representing the pet type.\n",
        "#     \"\"\"\n",
        "#     pass"
      ]
    },
    {
      "cell_type": "code",
      "execution_count": 2,
      "metadata": {
        "id": "4j1CcNEi53ba"
      },
      "outputs": [],
      "source": [
        "def get_pet_choice():\n",
        "    print(\"Select a pet:\")\n",
        "    print(\"1. Cat\")\n",
        "    print(\"2. Dog\")\n",
        "    print(\"3. Bird\")\n",
        "    choice = int(input(\"Enter your choice (1/2/3): \"))\n",
        "    return choice"
      ]
    },
    {
      "cell_type": "markdown",
      "metadata": {
        "id": "ih-mnNqnvI6N"
      },
      "source": [
        "### Function to get pet's age and health as input from user"
      ]
    },
    {
      "cell_type": "code",
      "execution_count": 3,
      "metadata": {
        "id": "Jn7fw0PG5660"
      },
      "outputs": [],
      "source": [
        "def get_pet_age():\n",
        "    age = int(input(\"Enter the age of your pet: \"))\n",
        "    return age"
      ]
    },
    {
      "cell_type": "code",
      "execution_count": 4,
      "metadata": {
        "id": "bOmAKcsmvGkM"
      },
      "outputs": [],
      "source": [
        "\n",
        "# # Function to get the pet's age from the user\n",
        "# def get_pet_age():\n",
        "#     \"\"\"\n",
        "#     TODO: Implement this function to get the pet's age from the user.\n",
        "#     The function should prompt the user to enter the pet's age in years and\n",
        "#     return the entered value as an integer.\n",
        "#     \"\"\"\n",
        "#     pass"
      ]
    },
    {
      "cell_type": "code",
      "execution_count": 5,
      "metadata": {
        "id": "LBUykxsV6Bi-"
      },
      "outputs": [],
      "source": [
        "def get_pet_health():\n",
        "    print(\"Select the health status of your pet:\")\n",
        "    print(\"1. Healthy\")\n",
        "    print(\"2. Good\")\n",
        "    print(\"3. Poor\")\n",
        "    health = int(input(\"Enter the health status (1/2/3): \"))\n",
        "    return health"
      ]
    },
    {
      "cell_type": "code",
      "execution_count": 6,
      "metadata": {
        "id": "31-njL3fvIEn"
      },
      "outputs": [],
      "source": [
        "# # Function to get the pet's health status from the user\n",
        "# def get_pet_health():\n",
        "#     \"\"\"\n",
        "#     TODO: Implement this function to get the pet's health status from the user.\n",
        "#     The function should prompt the user to select the health status (e.g., good, fair, poor) and\n",
        "#     return the corresponding number representing the health status.\n",
        "#     \"\"\"\n",
        "#     pass"
      ]
    },
    {
      "cell_type": "markdown",
      "metadata": {
        "id": "10mIZiAxrIWD"
      },
      "source": [
        "### Function for rules for providing pet care tips"
      ]
    },
    {
      "cell_type": "code",
      "execution_count": 13,
      "metadata": {
        "id": "Z8-dNMgn6Evc"
      },
      "outputs": [],
      "source": [
        "def provide_pet_care_tips(pet_choice, pet_age, pet_health):\n",
        "    if pet_choice == 1:  # Cat\n",
        "        if pet_age < 2:\n",
        "            if pet_health == 1:\n",
        "                print(\"Your young cat is healthy. Keep up the good care!\")\n",
        "            elif pet_health == 2:\n",
        "                print(\"Provide extra care and attention to your young cat.\")\n",
        "            elif pet_health == 3:\n",
        "                print(\"It's important to take your young cat to the vet as soon as possible.\")\n",
        "        elif 2 <= pet_age <= 7:\n",
        "            if pet_health == 1:\n",
        "                print(\"Your adult cat is healthy. Keep providing proper care.\")\n",
        "            elif pet_health == 2:\n",
        "                print(\"Continue maintaining good care and hygiene for your adult cat.\")\n",
        "            elif pet_health == 3:\n",
        "                print(\"Schedule a vet visit to address your adult cat's health concerns.\")\n",
        "        elif 7 < pet_age <= 10:\n",
        "            if pet_health == 1:\n",
        "                print(\"Your adult cat is doing well. Keep up the care routine.\")\n",
        "            elif pet_health == 2:\n",
        "                print(\"Ensure your adult cat receives extra care and attention.\")\n",
        "            elif pet_health == 3:\n",
        "                print(\"Visit the vet to discuss ways to improve the health and comfort of your adult cat.\")\n",
        "        else:\n",
        "            print(\"Invalid age entered.\")\n",
        "\n",
        "    elif pet_choice == 2:  # Dog\n",
        "        if pet_age < 3:\n",
        "            if pet_health == 1:\n",
        "                print(\"Your young dog is in good health. Keep providing proper care.\")\n",
        "            elif pet_health == 2:\n",
        "                print(\"Give extra care and attention to your young dog's needs.\")\n",
        "            elif pet_health == 3:\n",
        "                print(\"Urgently take your young dog to the vet for a health check.\")\n",
        "        elif 3 <= pet_age <= 9:\n",
        "            if pet_health == 1:\n",
        "                print(\"Your adult dog is healthy. Keep up the care routine.\")\n",
        "            elif pet_health == 2:\n",
        "                print(\"Continue maintaining good care and hygiene for your adult dog.\")\n",
        "            elif pet_health == 3:\n",
        "                print(\"Schedule a vet visit to address your adult dog's health concerns.\")\n",
        "        elif 9 < pet_age <= 12:\n",
        "            if pet_health == 1:\n",
        "                print(\"Your adult dog is doing well. Keep up the care routine.\")\n",
        "            elif pet_health == 2:\n",
        "                print(\"Ensure your adult dog receives extra care and attention.\")\n",
        "            elif pet_health == 3:\n",
        "                print(\"Visit the vet to discuss ways to improve the health and comfort of your adult dog.\")\n",
        "        else:\n",
        "            print(\"Invalid age entered.\")\n",
        "\n",
        "    elif pet_choice == 3:  # Bird\n",
        "        if pet_age < 1:\n",
        "            if pet_health == 1:\n",
        "                print(\"Your young bird is healthy. Keep providing proper care and nutrition.\")\n",
        "            elif pet_health == 2:\n",
        "                print(\"Give extra care and attention to your young bird's well-being.\")\n",
        "            elif pet_health == 3:\n",
        "                print(\"It's crucial to take your young bird to the vet for immediate attention.\")\n",
        "        elif 1 <= pet_age <= 5:\n",
        "            if pet_health == 1:\n",
        "                print(\"Your adult bird is healthy. Maintain a good care routine.\")\n",
        "            elif pet_health == 2:\n",
        "                print(\"Continue maintaining good care and hygiene for your adult bird.\")\n",
        "            elif pet_health == 3:\n",
        "                print(\"Schedule a vet visit to address your adult bird's health concerns.\")\n",
        "        elif 5 < pet_age <= 7:\n",
        "            if pet_health == 1:\n",
        "                print(\"Your adult bird is doing well. Keep providing proper care.\")\n",
        "            elif pet_health == 2:\n",
        "                print(\"Ensure your adult bird receives extra care and attention.\")\n",
        "            elif pet_health == 3:\n",
        "                print(\"Visit the vet to discuss ways to improve the health and comfort of your adult bird.\")\n",
        "        else:\n",
        "            print(\"Invalid age entered.\")\n",
        "\n",
        "    else:\n",
        "        print(\"Invalid pet choice.\")"
      ]
    },
    {
      "cell_type": "code",
      "execution_count": 8,
      "metadata": {
        "id": "EIpHv9ckpYzh"
      },
      "outputs": [],
      "source": [
        "# # Function to provide pet care tips based on the user's choice, age, and health\n",
        "# def provide_pet_care_tips(pet_choice, pet_age, pet_health):\n",
        "#     \"\"\"\n",
        "#     TODO: Implement this function to provide pet care tips based on the user's choices.\n",
        "#     The function should take the pet_choice (representing the type of pet), pet_age (in years),\n",
        "#     and pet_health (representing the health status) as inputs and print relevant care tips based on those.\n",
        "#     \"\"\"\n",
        "#     pass\n"
      ]
    },
    {
      "cell_type": "markdown",
      "metadata": {
        "id": "GIJtbG2UrtJM"
      },
      "source": [
        "### Main function to run the pet care assistant"
      ]
    },
    {
      "cell_type": "code",
      "execution_count": 14,
      "metadata": {
        "id": "W5a19r_J6Y0k"
      },
      "outputs": [],
      "source": [
        "def pet_care_assistant():\n",
        "    pet_choice = get_pet_choice()\n",
        "    pet_age = get_pet_age()\n",
        "    pet_health = get_pet_health()\n",
        "    provide_pet_care_tips(pet_choice, pet_age, pet_health)\n"
      ]
    },
    {
      "cell_type": "code",
      "execution_count": 15,
      "metadata": {
        "id": "Sfqbwb0du179"
      },
      "outputs": [],
      "source": [
        "# # Main function to run the pet care assistant\n",
        "# def pet_care_assistant():\n",
        "#     \"\"\"\n",
        "#     TODO: Implement this function as the entry point to the pet care assistant program.\n",
        "#     The function should call the get_pet_choice(), get_pet_age(), and get_pet_health() functions\n",
        "#     to collect the necessary information from the user. Then, it should call the provide_pet_care_tips()\n",
        "#     function to provide personalized care tips based on the user's inputs.\n",
        "#     \"\"\"\n",
        "#     pass"
      ]
    },
    {
      "cell_type": "code",
      "execution_count": 17,
      "metadata": {
        "colab": {
          "base_uri": "https://localhost:8080/"
        },
        "id": "Bm-vnwCvrxy4",
        "outputId": "06d0d0bf-6b67-4220-dac0-1d48c68ae408"
      },
      "outputs": [
        {
          "name": "stdout",
          "output_type": "stream",
          "text": [
            "Select a pet:\n",
            "1. Cat\n",
            "2. Dog\n",
            "3. Bird\n",
            "Select the health status of your pet:\n",
            "1. Healthy\n",
            "2. Good\n",
            "3. Poor\n",
            "Invalid age entered.\n"
          ]
        }
      ],
      "source": [
        "# Run the program\n",
        "if __name__ == \"__main__\":\n",
        "    pet_care_assistant()  # Start the pet care assistant"
      ]
    },
    {
      "cell_type": "markdown",
      "metadata": {},
      "source": [
        "1.\tStart:\n",
        "    a.\tThe program begins its execution.\n",
        "2.\tDefine get_pet_choice() Function:\n",
        "    a.\tDisplay available pet options (cat, dog, bird).\n",
        "    b.\tRead and store the user's choice of pet.\n",
        "    c.\tReturn the chosen pet option.\n",
        "3.\tDefine get_pet_age() Function:\n",
        "    a.\tDisplay a prompt asking the user to input the pet's age.\n",
        "    b.\tRead and store the provided age.\n",
        "    c.\tReturn the collected age.\n",
        "4.\tDefine get_pet_health() Function:\n",
        "    a.\tDisplay available health options (healthy, good, poor).\n",
        "    b.\tRead and store the user's selected health status.\n",
        "    c.\tReturn the chosen health status.\n",
        "5.\tDefine provide_pet_care_tips(pet_choice, pet_age, pet_health) Function:\n",
        "    a.\tThe function takes three parameters: pet_choice, pet_age, and pet_health.\n",
        "    b.\tBased on the pet_choice, the function proceeds to provide tailored care tips:\n",
        "        i.\tIf pet_choice is 1 (Cat):\n",
        "            1.\tCheck the age and health status of the cat.\n",
        "            2.\tDepending on the age and health status, display specific care recommendations for the cat.\n",
        "            3.\tDifferent age ranges and health levels will trigger different tips.\n",
        "        ii.\tIf pet_choice is 2 (Dog):\n",
        "            1.\tCheck the age and health status of the dog.\n",
        "            2.\tDisplay appropriate care recommendations based on the age and health status of the dog.\n",
        "        iii.\tIf pet_choice is 3 (Bird).\n",
        "            1.\tCheck the age and health status of the bird.\n",
        "            2.\tDisplay bird-specific care suggestions according to the age and health status.\n",
        "        iv.\tIf the pet_choice is invalid (not 1, 2, or 3):\n",
        "            1.\tDisplay an error message indicating an invalid choice.\n",
        "6.\tDefine pet_care_assistant() Function:\n",
        "    a.\tCall get_pet_choice() to retrieve the user's selected pet choice.\n",
        "    b.\tCall get_pet_age() to obtain the pet's age.\n",
        "    c.\tCall get_pet_health() to get the health status of the pet.\n",
        "    d.\tCall provide_pet_care_tips() with the collected information to display personalized care recommendations.\n",
        "7.\tCall pet_care_assistant() Function:\n",
        "    a.\tInitiate the pet care assistant program by calling the pet_care_assistant() function.\n",
        "8.\tEnd:\n",
        "    a.\tThe program execution concludes."
      ]
    },
    {
      "cell_type": "code",
      "execution_count": null,
      "metadata": {
        "id": "AbStBE5X6sxs"
      },
      "outputs": [],
      "source": []
    }
  ],
  "metadata": {
    "colab": {
      "provenance": []
    },
    "kernelspec": {
      "display_name": "Python 3",
      "name": "python3"
    },
    "language_info": {
      "codemirror_mode": {
        "name": "ipython",
        "version": 3
      },
      "file_extension": ".py",
      "mimetype": "text/x-python",
      "name": "python",
      "nbconvert_exporter": "python",
      "pygments_lexer": "ipython3",
      "version": "3.9.6"
    }
  },
  "nbformat": 4,
  "nbformat_minor": 0
}
