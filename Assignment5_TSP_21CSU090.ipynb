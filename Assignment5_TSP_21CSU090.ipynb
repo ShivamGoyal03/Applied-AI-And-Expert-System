{
  "cells": [
    {
      "cell_type": "markdown",
      "metadata": {
        "id": "5r2msEl9py3R"
      },
      "source": [
        "<b>The Problem Statement</b>:\n",
        "\n",
        "Write a Python program to solve the Travelling Salesman problem using Branch and Bound approach.\n",
        "\n",
        "Imagine a salesman who needs to visit a set of cities and return to his starting point while minimizing the total distance traveled. Let's consider a small set of cities with their pairwise distances:\n",
        "\n",
        "City A to City B: 10 miles\n",
        "\n",
        "City A to City C: 15 miles\n",
        "\n",
        "City A to City D: 20 miles\n",
        "\n",
        "City B to City C: 35 miles\n",
        "\n",
        "City B to City D: 25 miles\n",
        "\n",
        "City C to City D: 30 miles\n",
        "\n",
        "The goal of the TSP is to find the shortest possible route that visits each city exactly once and returns to the starting city."
      ]
    },
    {
      "cell_type": "markdown",
      "metadata": {
        "id": "hi0nFuvoppT9"
      },
      "source": [
        "## The Code"
      ]
    },
    {
      "cell_type": "markdown",
      "metadata": {
        "id": "q1ABUPU7L6em"
      },
      "source": [
        "### Imports"
      ]
    },
    {
      "cell_type": "code",
      "execution_count": 1,
      "metadata": {
        "id": "i3TtxZ2SL6en"
      },
      "outputs": [],
      "source": [
        "import heapq\n",
        "import sys"
      ]
    },
    {
      "cell_type": "markdown",
      "metadata": {
        "id": "hnp5US3YLdEb"
      },
      "source": [
        "### Definition of the Heuristic Function"
      ]
    },
    {
      "cell_type": "code",
      "execution_count": 2,
      "metadata": {
        "id": "2XryJbWuLdEc"
      },
      "outputs": [],
      "source": [
        "# Define heuristic functions\n",
        "def calculate_path_cost(graph, path):\n",
        "    \"\"\"\n",
        "    Calculate the total cost of a given path in the graph.\n",
        "\n",
        "    Args:\n",
        "        graph (list of lists): The distance matrix representing the distances between cities.\n",
        "        path (list of ints): The path (sequence of city indices) for which to calculate the cost.\n",
        "\n",
        "    Returns:\n",
        "        int: The total cost of the path.\n",
        "    \"\"\"\n",
        "    # Initialize the cost to 0\n",
        "    cost = 0\n",
        "\n",
        "    # Loop through the cities in the path\n",
        "    for i in range(len(path) - 1):\n",
        "        # Add the distance between the current city and the next city to the cost\n",
        "        cost += graph[path[i]][path[i + 1]]\n",
        "\n",
        "    # Return the total cost of the path\n",
        "    return cost"
      ]
    },
    {
      "cell_type": "markdown",
      "metadata": {
        "id": "EULYS1zCLF6l"
      },
      "source": [
        "### Lower Bound Calculation"
      ]
    },
    {
      "cell_type": "code",
      "execution_count": 3,
      "metadata": {
        "id": "dnAv1jaZLF6l"
      },
      "outputs": [],
      "source": [
        "def calculate_lower_bound(graph, visited_cities, current_city):\n",
        "    \"\"\"\n",
        "    Calculate the lower bound for the current state using the minimum outgoing edge and the minimum incoming edge.\n",
        "\n",
        "    Args:\n",
        "        graph (list of lists): The distance matrix representing the distances between cities.\n",
        "        visited_cities (set of ints): The set of cities that have been visited so far.\n",
        "        current_city (int): The index of the current city.\n",
        "\n",
        "    Returns:\n",
        "        int: The calculated lower bound for the current state.\n",
        "    \"\"\"\n",
        "    # Initialize the minimum outgoing edge cost to a large value\n",
        "    min_outgoing_edge = sys.maxsize\n",
        "\n",
        "    # Find the minimum outgoing edge from the current city to unvisited cities\n",
        "    for city in range(len(graph)):\n",
        "        if city not in visited_cities and graph[current_city][city] < min_outgoing_edge:\n",
        "            min_outgoing_edge = graph[current_city][city]\n",
        "\n",
        "    # Initialize the minimum incoming edge cost to a large value\n",
        "    min_incoming_edge = sys.maxsize\n",
        "\n",
        "    # Find the minimum cost to reach unvisited cities from visited cities\n",
        "    for city in range(len(graph)):\n",
        "        if city not in visited_cities and city != current_city:\n",
        "            # Initialize the minimum cost to the current city to a large value\n",
        "            min_cost_to_city = sys.maxsize\n",
        "\n",
        "            # Find the minimum cost to reach the current city from visited cities\n",
        "            for visited_city in visited_cities:\n",
        "                min_cost_to_city = min(min_cost_to_city, graph[visited_city][city])\n",
        "\n",
        "            # Update the minimum incoming edge cost\n",
        "            min_incoming_edge = min(min_incoming_edge, min_cost_to_city)\n",
        "\n",
        "    # Calculate the total lower bound by summing the minimum outgoing and incoming edge costs\n",
        "    lower_bound = min_outgoing_edge + min_incoming_edge\n",
        "\n",
        "    return lower_bound"
      ]
    },
    {
      "cell_type": "markdown",
      "metadata": {
        "id": "Lf4397PeUJaT"
      },
      "source": [
        "### Priority Queue Creation"
      ]
    },
    {
      "cell_type": "code",
      "execution_count": 4,
      "metadata": {
        "id": "qi079WGQUJRU"
      },
      "outputs": [],
      "source": [
        "def initialize_priority_queue(num_cities):\n",
        "   \"\"\"\n",
        "    Initialize the priority queue with the initial state of the search.\n",
        "    \n",
        "    Args:\n",
        "        num_cities (int): The total number of cities in the TSP instance.\n",
        "    \n",
        "    Returns:\n",
        "        list: A priority queue containing the initial state.\n",
        "    \"\"\"\n",
        "   initial_state = (0, {0}, [0])\n",
        "   priority_queue = [initial_state]\n",
        "   return priority_queue"
      ]
    },
    {
      "cell_type": "markdown",
      "metadata": {
        "id": "WZrvsX8_ri3a"
      },
      "source": [
        "### Define the Branch and Bound algorithm"
      ]
    },
    {
      "cell_type": "code",
      "execution_count": 9,
      "metadata": {
        "id": "Lk7ipyj16Jx8"
      },
      "outputs": [],
      "source": [
        "def tsp_branch_and_bound(graph):\n",
        "    # Get the number of cities\n",
        "    num_cities = len(graph)\n",
        "    \n",
        "    # Initialize variables to track the best solution\n",
        "    best_path = None\n",
        "    best_cost = sys.maxsize\n",
        "    \n",
        "    # Initialize the priority queue with the initial state\n",
        "    priority_queue = initialize_priority_queue(num_cities)\n",
        "\n",
        "    # Explore the state space using a while loop\n",
        "    while priority_queue:\n",
        "        # Pop the current state from the priority queue\n",
        "        current_state = heapq.heappop(priority_queue)\n",
        "        current_cost, visited_cities, path = current_state\n",
        "        # If all cities are visited, check if it's a complete tour\n",
        "        if len(visited_cities) == num_cities:\n",
        "            # Add the cost to return to the starting city\n",
        "            current_cost += graph[path[-1]][path[0]]\n",
        "            \n",
        "            # Update the best solution if the current cost is better\n",
        "            if current_cost < best_cost:\n",
        "                print(priority_queue)\n",
        "                best_cost = current_cost\n",
        "                best_path = path[:]\n",
        "        else:\n",
        "            # Explore child states by considering unvisited cities\n",
        "            current_city = path[-1]\n",
        "            for city in range(num_cities):\n",
        "                if city not in visited_cities:\n",
        "                    child_path = path + [city]\n",
        "                    child_cost = current_cost + graph[current_city][city]\n",
        "                    \n",
        "                    # Calculate a lower bound for the child state\n",
        "                    lower_bound = calculate_lower_bound(graph, visited_cities, current_city)\n",
        "\n",
        "                    # If the child state has the potential to improve the solution, add it to the priority queue\n",
        "                    if child_cost + lower_bound < best_cost:\n",
        "                        child_state = (child_cost, visited_cities | {city}, child_path)\n",
        "                        heapq.heappush(priority_queue, child_state)\n",
        "\n",
        "    # Return the best path and cost found\n",
        "    return best_path, best_cost"
      ]
    },
    {
      "cell_type": "markdown",
      "metadata": {
        "id": "TYRZ-f3G6Tpj"
      },
      "source": [
        "### Main function to solve the problem"
      ]
    },
    {
      "cell_type": "code",
      "execution_count": 10,
      "metadata": {
        "id": "VFUkDQUY6WiX"
      },
      "outputs": [
        {
          "name": "stdout",
          "output_type": "stream",
          "text": [
            "[(70, {0, 1, 2, 3}, [0, 2, 3, 1]), (75, {0, 1, 2, 3}, [0, 1, 2, 3]), (75, {0, 1, 2, 3}, [0, 2, 1, 3]), (85, {0, 1, 2, 3}, [0, 3, 2, 1]), (80, {0, 1, 2, 3}, [0, 3, 1, 2])]\n",
            "Best TSP Path: [0, 1, 3, 2]\n",
            "Best TSP Cost: 80\n"
          ]
        }
      ],
      "source": [
        "# Example usage\n",
        "if __name__ == \"__main__\":\n",
        "    graph = [\n",
        "        [0, 10, 15, 20],\n",
        "        [10, 0, 35, 25],\n",
        "        [15, 35, 0, 30],\n",
        "        [20, 25, 30, 0]\n",
        "    ]\n",
        "\n",
        "    best_path, best_cost = tsp_branch_and_bound(graph)\n",
        "    print(\"Best TSP Path:\", best_path)\n",
        "    print(\"Best TSP Cost:\", best_cost)"
      ]
    },
    {
      "cell_type": "markdown",
      "metadata": {},
      "source": [
        "---\n",
        "\n",
        "```\n",
        "BranchAndBoundTSP(graph):\n",
        "    num_cities = number of cities in the graph\n",
        "    best_path = None\n",
        "    best_cost = infinity\n",
        "    priority_queue = initialize_priority_queue(num_cities)\n",
        "\n",
        "    while priority_queue is not empty:\n",
        "        current_state = pop state with lowest cost from priority_queue\n",
        "        current_cost = cost of current_state\n",
        "        visited_cities = cities visited in current_state\n",
        "        current_path = path in current_state\n",
        "\n",
        "        if all cities are visited:\n",
        "            current_cost += cost of returning to the starting city\n",
        "            if current_cost < best_cost:\n",
        "                best_cost = current_cost\n",
        "                best_path = current_path\n",
        "        else:\n",
        "            current_city = last city in current_path\n",
        "            for city in unvisited cities:\n",
        "                child_path = current_path + [city]\n",
        "                child_cost = current_cost + cost from current_city to city\n",
        "                lower_bound = calculate_lower_bound(graph, visited_cities, current_city)\n",
        "\n",
        "                if child_cost + lower_bound < best_cost:\n",
        "                    child_state = (child_cost, visited_cities + [city], child_path)\n",
        "                    insert child_state into priority_queue\n",
        "\n",
        "    return best_path, best_cost\n",
        "\n",
        "```"
      ]
    }
  ],
  "metadata": {
    "colab": {
      "provenance": []
    },
    "kernelspec": {
      "display_name": "Python 3",
      "name": "python3"
    },
    "language_info": {
      "codemirror_mode": {
        "name": "ipython",
        "version": 3
      },
      "file_extension": ".py",
      "mimetype": "text/x-python",
      "name": "python",
      "nbconvert_exporter": "python",
      "pygments_lexer": "ipython3",
      "version": "3.9.6"
    }
  },
  "nbformat": 4,
  "nbformat_minor": 0
}
