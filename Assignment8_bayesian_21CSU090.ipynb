{
  "cells": [
    {
      "cell_type": "markdown",
      "metadata": {
        "id": "5r2msEl9py3R"
      },
      "source": [
        "Using Bayesian network, implement a Python program to calculate probability in disease diagnosis.\n",
        "\n",
        "A medical clinic is trying to determine the probability that a patient has a certain disease. The test which is used to diagnose the disease is not always accurate. The clinic knows that the probability of a false positive is 1%, and the probability of a false negative is 5%. The clinic has a patient who has tested positive for the disease.\n",
        "\n",
        "Knowing that disease occurs in a patient 25% times. They want to use Bayesian Theorem to calculate the probability that the patient actually has the disease. The Bayesian network will consist of two nodes: 'D' (for disease) and 'T' (for test result). conditional probability distributions (CPDs) for the nodes will be based on the provided information\n"
      ]
    },
    {
      "cell_type": "markdown",
      "metadata": {
        "id": "hi0nFuvoppT9"
      },
      "source": [
        "## The Code"
      ]
    },
    {
      "cell_type": "markdown",
      "metadata": {
        "id": "q1ABUPU7L6em"
      },
      "source": [
        "### Imports"
      ]
    },
    {
      "cell_type": "code",
      "execution_count": 5,
      "metadata": {
        "id": "i3TtxZ2SL6en"
      },
      "outputs": [],
      "source": [
        "from pgmpy.models import BayesianNetwork\n",
        "from pgmpy.factors.discrete import TabularCPD\n",
        "from pgmpy.inference import VariableElimination\n",
        "import warnings\n",
        "warnings.filterwarnings(\"ignore\")"
      ]
    },
    {
      "cell_type": "markdown",
      "metadata": {
        "id": "EULYS1zCLF6l"
      },
      "source": [
        "### Bayesian Network Creation using BayesianNetwork from pgmpy AND Defining CPDs using Tabular CPDS"
      ]
    },
    {
      "cell_type": "code",
      "execution_count": 6,
      "metadata": {
        "id": "W6DsZ9qZvD-v"
      },
      "outputs": [],
      "source": [
        "def create_bayesian_network():\n",
        "    '''\n",
        "    Create a Bayesian Network and return the model.\n",
        "    Model structure:\n",
        "    D -> T\n",
        "\n",
        "    D: Disease\n",
        "    T: Test\n",
        "\n",
        "    Values:\n",
        "    D: 0 - No, 1 - Yes\n",
        "    T: 0 - Negative, 1 - Positive\n",
        "\n",
        "    CPDs:\n",
        "    D: [0.75, 0.25]\n",
        "    T: [[0.999, 0.01], [0.001, 0.99]]\n",
        "\n",
        "    return: Bayesian Network model\n",
        "    '''\n",
        "    model = BayesianNetwork([('D', 'T')]) # D -> T\n",
        "    cpd_disease = TabularCPD(variable='D', variable_card=2, values=[[0.75], [0.25]]) # CPDs are defined in the order of variable names in the model. CPDs are the conditional probability distributions.\n",
        "    cpd_test = TabularCPD(variable='T', variable_card=2, values=[[0.99, 0.05], [0.01, 0.95]], evidence=['D'], evidence_card=[2])\n",
        "    model.add_cpds(cpd_disease, cpd_test)\n",
        "    assert model.check_model()\n",
        "    return model"
      ]
    },
    {
      "attachments": {
        "image.png": {
          "image/png": "[encoded data removed]"
        }
      },
      "cell_type": "markdown",
      "metadata": {},
      "source": [
        "![image.png](attachment:image.png)"
      ]
    },
    {
      "cell_type": "markdown",
      "metadata": {
        "id": "zXJONO10fCBU"
      },
      "source": [
        "### Calculating Disease Bayesian Probablity"
      ]
    },
    {
      "cell_type": "code",
      "execution_count": 7,
      "metadata": {
        "id": "-BleLeI_fCBb"
      },
      "outputs": [],
      "source": [
        "def calculate_probability_of_disease(model, test_result):\n",
        "    '''\n",
        "    Calculate the probability of disease given the test result using the created Bayesian Network.\n",
        "    model: Bayesian Network model\n",
        "    test_result: Test result\n",
        "    return: Probability of disease given the test result\n",
        "    '''\n",
        "    inference = VariableElimination(model)\n",
        "    query = inference.query(variables=['D'], evidence={'T': test_result}, show_progress=True) # query is a DiscreteFactor object which contains the marginal probability distribution of the query variables.\n",
        "    return query.values[1]"
      ]
    },
    {
      "cell_type": "markdown",
      "metadata": {
        "id": "TYRZ-f3G6Tpj"
      },
      "source": [
        "### Main function to solve the problem"
      ]
    },
    {
      "cell_type": "code",
      "execution_count": 8,
      "metadata": {
        "colab": {
          "base_uri": "https://localhost:8080/"
        },
        "id": "VFUkDQUY6WiX",
        "outputId": "85d00007-fd54-4902-ebd9-1d7d187eba08"
      },
      "outputs": [
        {
          "name": "stdout",
          "output_type": "stream",
          "text": [
            "Probability of having the disease given a positive test result: 0.9694\n"
          ]
        }
      ],
      "source": [
        "if __name__ == \"__main__\":\n",
        "    bayesian_network = create_bayesian_network()\n",
        "    test_result = 1  # 1 for positive test result, 0 for negative\n",
        "    probability = calculate_probability_of_disease(bayesian_network, test_result)\n",
        "    print(f\"Probability of having the disease given a positive test result: {probability:.4f}\")"
      ]
    },
    {
      "cell_type": "code",
      "execution_count": null,
      "metadata": {},
      "outputs": [],
      "source": []
    }
  ],
  "metadata": {
    "colab": {
      "provenance": []
    },
    "kernelspec": {
      "display_name": "Python 3",
      "name": "python3"
    },
    "language_info": {
      "codemirror_mode": {
        "name": "ipython",
        "version": 3
      },
      "file_extension": ".py",
      "mimetype": "text/x-python",
      "name": "python",
      "nbconvert_exporter": "python",
      "pygments_lexer": "ipython3",
      "version": "3.9.13"
    }
  },
  "nbformat": 4,
  "nbformat_minor": 0
}
