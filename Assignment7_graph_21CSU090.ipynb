{
  "cells": [
    {
      "cell_type": "markdown",
      "metadata": {
        "id": "5r2msEl9py3R"
      },
      "source": [
        "<b>The Problem Statement</b>:\n",
        "\n",
        "Implement a Python Code for the following problem:\n",
        "\n",
        "A logistics company is trying to optimize their delivery routes. They have a dataset of historical delivery data, which includes the start and end points of each delivery, as well as the distance between each point. They want to use graph-based visualization and logical reasoning to identify the most efficient delivery routes between any two points when provided to the code.\n",
        "\n",
        "The dataset is:\n",
        "\n",
        "![Alt text](image.png)"
      ]
    },
    {
      "cell_type": "markdown",
      "metadata": {
        "id": "hi0nFuvoppT9"
      },
      "source": [
        "## The Code"
      ]
    },
    {
      "cell_type": "markdown",
      "metadata": {
        "id": "q1ABUPU7L6em"
      },
      "source": [
        "### Imports"
      ]
    },
    {
      "cell_type": "code",
      "execution_count": 1,
      "metadata": {
        "id": "i3TtxZ2SL6en"
      },
      "outputs": [],
      "source": [
        "### To plot a networkx graph in pyvis\n",
        "import networkx as nx\n",
        "from pyvis.network import Network"
      ]
    },
    {
      "cell_type": "markdown",
      "metadata": {
        "id": "EULYS1zCLF6l"
      },
      "source": [
        "### Graph Building using Networkx"
      ]
    },
    {
      "cell_type": "code",
      "execution_count": 2,
      "metadata": {
        "id": "dnAv1jaZLF6l"
      },
      "outputs": [],
      "source": [
        "# Step 1: Create a graph representation of delivery routes\n",
        "def create_delivery_graph(data):\n",
        "    # Creating an empty graph\n",
        "    G = nx.Graph()\n",
        "    \n",
        "    # Adding nodes to the graph\n",
        "    for d in data:\n",
        "        G.add_node(d[1])\n",
        "        G.add_node(d[2])\n",
        "    \n",
        "    # Adding edges to the graph\n",
        "    for d in data:\n",
        "        G.add_edge(d[1], d[2], weight=d[3])\n",
        "    \n",
        "    return G"
      ]
    },
    {
      "cell_type": "markdown",
      "metadata": {
        "id": "zXJONO10fCBU"
      },
      "source": [
        "### Graph Visualize using Pyvis"
      ]
    },
    {
      "cell_type": "code",
      "execution_count": 3,
      "metadata": {
        "id": "-BleLeI_fCBb"
      },
      "outputs": [],
      "source": [
        "# Step 2: Visualize the graph using Pyvis\n",
        "def visualize_graph(G):\n",
        "    # Creating a network object\n",
        "    net = Network(notebook=True)#, cdn_resources='in_line')\n",
        "    \n",
        "    # Adding nodes to the network\n",
        "    for n in G.nodes:\n",
        "        net.add_node(n)\n",
        "    \n",
        "    # Adding edges to the network\n",
        "    for e in G.edges:\n",
        "        net.add_edge(e[0], e[1], value=G.edges[e]['weight'])\n",
        "    \n",
        "    # with open('delivery_graph.html', 'w', encoding='utf-8') as f:\n",
        "    #     f.write(net.html)\n",
        "    # Displaying the network\n",
        "    net.show('delivery_graph.html')"
      ]
    },
    {
      "cell_type": "markdown",
      "metadata": {
        "id": "SSoYplmgE6oV"
      },
      "source": [
        "### A* Search Algorithm"
      ]
    },
    {
      "cell_type": "code",
      "execution_count": 4,
      "metadata": {
        "id": "LnlWlRS6E92v"
      },
      "outputs": [],
      "source": [
        "# Step 3: Implement A* heuristic search algorithm\n",
        "def astar_search(graph, start, end):\n",
        "    # Creating a dictionary to store the heuristic values\n",
        "    heuristic = {\n",
        "        'Warehouse': 20,\n",
        "        'Point A': 15,\n",
        "        'Point B': 10,\n",
        "        'Point C': 5,\n",
        "        'Point D': 10,\n",
        "        'Point E': 0\n",
        "    }\n",
        "    \n",
        "    # Creating a dictionary to store the g and f values\n",
        "    g = {}\n",
        "    f = {}\n",
        "    \n",
        "    # Initializing the g and f values for the start node\n",
        "    g[start] = 0\n",
        "    f[start] = heuristic[start]\n",
        "    \n",
        "    # Creating a list to store the open nodes\n",
        "    open_list = [start]\n",
        "    \n",
        "    # Creating a dictionary to store the parent nodes\n",
        "    parent = {}\n",
        "    \n",
        "    # Looping until the open list is empty\n",
        "    while open_list:\n",
        "        # Getting the node with the lowest f value\n",
        "        current = None\n",
        "        current_f = None\n",
        "        for node in open_list:\n",
        "            if current is None or f[node] < current_f:\n",
        "                current = node\n",
        "                current_f = f[node]\n",
        "        \n",
        "        # Checking if the current node is the end node\n",
        "        if current == end:\n",
        "            # Reconstructing the path\n",
        "            path = []\n",
        "            while current in parent:\n",
        "                path.append(current)\n",
        "                current = parent[current]\n",
        "            path.append(start)\n",
        "            path.reverse()\n",
        "            return path, g[end]\n",
        "        \n",
        "        # Removing the current node from the open list\n",
        "        open_list.remove(current)\n",
        "        \n",
        "        # Looping through the neighbors of the current node\n",
        "        for neighbor in graph.neighbors(current):\n",
        "            # Calculating the tentative g value\n",
        "            tentative_g = g[current] + graph.edges[current, neighbor]['weight']\n",
        "            \n",
        "            # Checking if the neighbor is not in the g dictionary or the tentative g value is less than the current g value\n",
        "            if neighbor not in g or tentative_g < g[neighbor]:\n",
        "                # Updating the g and f values\n",
        "                g[neighbor] = tentative_g\n",
        "                f[neighbor] = g[neighbor] + heuristic[neighbor]\n",
        "                \n",
        "                # Adding the neighbor to the open list\n",
        "                if neighbor not in open_list:\n",
        "                    open_list.append(neighbor)\n",
        "                \n",
        "                # Setting the parent of the neighbor to the current node\n",
        "                parent[neighbor] = current\n",
        "    \n",
        "    # Returning None if no path is found\n",
        "    return None, None"
      ]
    },
    {
      "cell_type": "markdown",
      "metadata": {
        "id": "TYRZ-f3G6Tpj"
      },
      "source": [
        "### Main function to solve the problem"
      ]
    },
    {
      "cell_type": "markdown",
      "metadata": {},
      "source": [
        "![Alt text](image-1.png)"
      ]
    },
    {
      "cell_type": "code",
      "execution_count": 5,
      "metadata": {},
      "outputs": [
        {
          "name": "stdout",
          "output_type": "stream",
          "text": [
            "Warning: When  cdn_resources is 'local' jupyter notebook has issues displaying graphics on chrome/safari. Use cdn_resources='in_line' or cdn_resources='remote' if you have issues viewing graphics in a notebook.\n",
            "delivery_graph.html\n",
            "Shortest path from Warehouse to Point D: Warehouse -> Point A -> Point C -> Point D\n",
            "Shortest distance: 24 miles\n"
          ]
        }
      ],
      "source": [
        "if __name__ == \"__main__\":\n",
        "    # Sample dataset\n",
        "    delivery_data = [\n",
        "        (1, 'Warehouse', 'Point A', 10),\n",
        "        (2, 'Point A', 'Point B', 5),\n",
        "        (3, 'Point A', 'Point C', 8),\n",
        "        (4, 'Point B', 'Point C', 7),\n",
        "        (5, 'Point B', 'Point D', 12),\n",
        "        (6, 'Point C', 'Point D', 6),\n",
        "        (7, 'Point C', 'Point E', 9),\n",
        "        (8, 'Point D', 'Point E', 11)\n",
        "    ]\n",
        "\n",
        "    # Create the delivery graph\n",
        "    delivery_graph = create_delivery_graph(delivery_data)\n",
        "\n",
        "    # Visualize the graph\n",
        "    visualize_graph(delivery_graph)\n",
        "\n",
        "    # Find the shortest distance using A* heuristic search\n",
        "    start_point = 'Warehouse'\n",
        "    end_point = 'Point D'\n",
        "    shortest_path, shortest_distance = astar_search(delivery_graph, start_point, end_point)\n",
        "\n",
        "    if shortest_path:\n",
        "        print(f\"Shortest path from {start_point} to {end_point}: {' -> '.join(shortest_path)}\")\n",
        "        print(f\"Shortest distance: {shortest_distance} miles\")\n",
        "    else:\n",
        "        print(f\"No path found from {start_point} to {end_point}\")"
      ]
    },
    {
      "cell_type": "code",
      "execution_count": null,
      "metadata": {},
      "outputs": [],
      "source": []
    }
  ],
  "metadata": {
    "colab": {
      "provenance": []
    },
    "kernelspec": {
      "display_name": "Python 3",
      "name": "python3"
    },
    "language_info": {
      "codemirror_mode": {
        "name": "ipython",
        "version": 3
      },
      "file_extension": ".py",
      "mimetype": "text/x-python",
      "name": "python",
      "nbconvert_exporter": "python",
      "pygments_lexer": "ipython3",
      "version": "3.9.6"
    }
  },
  "nbformat": 4,
  "nbformat_minor": 0
}
