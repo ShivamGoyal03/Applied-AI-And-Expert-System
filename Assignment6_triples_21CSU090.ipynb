{
  "cells": [
    {
      "cell_type": "markdown",
      "metadata": {
        "id": "5r2msEl9py3R"
      },
      "source": [
        "<b>The Problem Statement</b>:\n",
        "\n",
        "Form triples based on the following paragraph:\n",
        "\n",
        "\"Alice is enrolled in Computer Science 101. Bob is enrolled in Physics 201. Charlie is enrolled in Mathematics 301. Computer Science 101 is taught by Professor Smith. Physics 201 is taught by Professor Johnson. Mathematics 301 is taught by Professor Brown.\"\n",
        "\n",
        "Use the above to paragraph extract triples and build a complete graph representing the relationships between students, courses, and instructors in a university setting."
      ]
    },
    {
      "cell_type": "markdown",
      "metadata": {
        "id": "hi0nFuvoppT9"
      },
      "source": [
        "## The Code"
      ]
    },
    {
      "cell_type": "markdown",
      "metadata": {
        "id": "q1ABUPU7L6em"
      },
      "source": [
        "### Imports"
      ]
    },
    {
      "cell_type": "code",
      "execution_count": 1,
      "metadata": {
        "id": "i3TtxZ2SL6en"
      },
      "outputs": [],
      "source": [
        "### NLTK libraries for triples extraction\n",
        "from nltk.tokenize import word_tokenize\n",
        "from nltk import pos_tag\n",
        "\n",
        "### To plot a networkx graph in pyvis\n",
        "import networkx as nx\n",
        "from pyvis.network import Network\n",
        "from IPython.display import HTML\n",
        "from IPython.display import display,IFrame"
      ]
    },
    {
      "cell_type": "code",
      "execution_count": 2,
      "metadata": {
        "colab": {
          "base_uri": "https://localhost:8080/"
        },
        "id": "UVmaIJlAel-x",
        "outputId": "db0d026f-4ea7-47b2-91f6-d84a06b4ae1b"
      },
      "outputs": [
        {
          "name": "stderr",
          "output_type": "stream",
          "text": [
            "[nltk_data] Downloading package punkt to\n",
            "[nltk_data]     C:\\Users\\HP\\AppData\\Roaming\\nltk_data...\n",
            "[nltk_data]   Package punkt is already up-to-date!\n",
            "[nltk_data] Downloading package averaged_perceptron_tagger to\n",
            "[nltk_data]     C:\\Users\\HP\\AppData\\Roaming\\nltk_data...\n",
            "[nltk_data]   Package averaged_perceptron_tagger is already up-to-\n",
            "[nltk_data]       date!\n"
          ]
        },
        {
          "data": {
            "text/plain": [
              "True"
            ]
          },
          "execution_count": 2,
          "metadata": {},
          "output_type": "execute_result"
        }
      ],
      "source": [
        "import nltk\n",
        "nltk.download('punkt')\n",
        "nltk.download('averaged_perceptron_tagger')"
      ]
    },
    {
      "cell_type": "markdown",
      "metadata": {
        "id": "hnp5US3YLdEb"
      },
      "source": [
        "### Definition of the Triples"
      ]
    },
    {
      "cell_type": "markdown",
      "metadata": {},
      "source": [
        "To define triples automatically from the paragraph, you can use a natural language processing librao' like spaCy to extract the entities and relationships from the text."
      ]
    },
    {
      "cell_type": "code",
      "execution_count": 3,
      "metadata": {
        "id": "2XryJbWuLdEc"
      },
      "outputs": [],
      "source": [
        "# Manually define the triples from the paragraph in the subject predicate and object format as a list of tuples\n",
        "triples = [\n",
        "    ('Alice', 'enrolled_in', 'CS 101'),\n",
        "    ('Bob', 'enrolled_in', 'Physics 201'),\n",
        "    ('Charlie', 'enrolled_in', 'Mathematics 301'),\n",
        "    ('CS 101', 'taught_by', 'Professor Smith'),\n",
        "    ('Physics 201', 'taught_by', 'Professor Johnson'),\n",
        "    ('Mathematics 301', 'taught_by', 'Professor Brown')\n",
        "]"
      ]
    },
    {
      "cell_type": "code",
      "execution_count": 4,
      "metadata": {},
      "outputs": [],
      "source": [
        "# def triples_extraction(paragraph):\n",
        "#     sentences = nltk.sent_tokenize(paragraph)\n",
        "#     triples = []\n",
        "#     for sentence in sentences:\n",
        "#         words = nltk.word_tokenize(sentence)\n",
        "#         if 'enrolled' in words:\n",
        "#             subject = words[0]\n",
        "#             course = ' '.join(words[4:6])\n",
        "#             triples.append((subject, 'enrolled_in', course))\n",
        "#         elif 'taught' in words:\n",
        "#             course = ' '.join(words[:2])\n",
        "#             professor = ' '.join(words[5:7])\n",
        "#             triples.append((course, 'taught_by', professor))\n",
        "\n",
        "#     return triples"
      ]
    },
    {
      "cell_type": "markdown",
      "metadata": {
        "id": "EULYS1zCLF6l"
      },
      "source": [
        "### Graph Building using Networkx"
      ]
    },
    {
      "cell_type": "code",
      "execution_count": 5,
      "metadata": {
        "id": "dnAv1jaZLF6l"
      },
      "outputs": [],
      "source": [
        "# Function to build a NetworkX graph from extracted triples\n",
        "def build_networkx_graph(triples):\n",
        "    \"\"\"\n",
        "    Builds a NetworkX graph from a list of subject-predicate-object triples.\n",
        "\n",
        "    Args:\n",
        "        triples (list): A list of extracted triples, each represented as a tuple (subject, predicate, object).\n",
        "\n",
        "    Returns:\n",
        "        networkx.Graph: A NetworkX graph representing relationships between students, courses, and instructors.\n",
        "    \"\"\"\n",
        "    # TO-DO: Implement the code to build a NetworkX graph from the triples\n",
        "    # Initialize an empty NetworkX graph\n",
        "\n",
        "    # Iterate through the triples\n",
        "\n",
        "    # Add nodes with node types (student, course, instructor)\n",
        "\n",
        "    # Add edges with relationship types (enrolled in, taught by)\n",
        "\n",
        "    # Return the NetworkX graph\n",
        "    G = nx.Graph()\n",
        "\n",
        "    # Iterate through the triples\n",
        "    for triple in triples:\n",
        "        subject, predicate, obj = triple\n",
        "\n",
        "        # Add nodes with node types (student, course, instructor)\n",
        "        if subject not in G:\n",
        "            G.add_node(subject, node_type='student')\n",
        "        if obj not in G:\n",
        "            if predicate == 'enrolled_in':\n",
        "                G.add_node(obj, node_type='course')\n",
        "            elif predicate == 'taught_by':\n",
        "                G.add_node(obj, node_type='instructor')\n",
        "\n",
        "        # Add edges with relationship types (enrolled in, taught by)\n",
        "        if predicate == 'enrolled_in':\n",
        "            G.add_edge(subject, obj, relationship_type='enrolled in')\n",
        "        elif predicate == 'taught_by':\n",
        "            G.add_edge(obj, subject, relationship_type='taught by')\n",
        "\n",
        "    # Return the NetworkX graph\n",
        "    return G"
      ]
    },
    {
      "cell_type": "markdown",
      "metadata": {
        "id": "zXJONO10fCBU"
      },
      "source": [
        "### Graph Visualize using Matplotlib"
      ]
    },
    {
      "cell_type": "code",
      "execution_count": 6,
      "metadata": {
        "id": "-BleLeI_fCBb"
      },
      "outputs": [],
      "source": [
        "# Function to save the graph as \"university_relationship_graph.html\" using PyVis\n",
        "def save_graph_pyvis(graph):\n",
        "    \"\"\"\n",
        "    Visualizes a NetworkX graph using PyVis and saves it as an HTML file.\n",
        "\n",
        "    Args:\n",
        "        graph (networkx.Graph): The NetworkX graph to be visualized.\n",
        "\n",
        "    Returns:\n",
        "        None\n",
        "    \"\"\"\n",
        "    # TO-DO: Implement the code to visualize the graph using PyVis\n",
        "    # Create an empty PyVis Network object\n",
        "\n",
        "    # Add nodes and edges to the PyVis graph\n",
        "\n",
        "    # Save the graph as an HTML file\n",
        "    pyvis_graph = Network()\n",
        "\n",
        "    # Add nodes and edges to the PyVis graph\n",
        "    for node in graph.nodes():\n",
        "        node_type = graph.nodes[node]['node_type']\n",
        "        pyvis_graph.add_node(node, label=node, title=node_type, color='green' if node_type == 'student' else 'blue' if node_type == 'course' else 'red')\n",
        "\n",
        "    for edge in graph.edges():\n",
        "        relationship_type = graph.edges[edge]['relationship_type']\n",
        "        pyvis_graph.add_edge(edge[0], edge[1], label=relationship_type)\n",
        "\n",
        "    # Save the graph as an HTML file\n",
        "\n",
        "    pyvis_graph.write_html('university_relationship_graph.html')"
      ]
    },
    {
      "cell_type": "markdown",
      "metadata": {
        "id": "TYRZ-f3G6Tpj"
      },
      "source": [
        "### Main function to solve the problem"
      ]
    },
    {
      "cell_type": "code",
      "execution_count": 7,
      "metadata": {
        "id": "VFUkDQUY6WiX"
      },
      "outputs": [],
      "source": [
        "# Given paragraph\n",
        "paragraph = \"Alice is enrolled in CS 101. Bob is enrolled in Physics 201. Charlie is enrolled in Mathematics 301. CS 101 is taught by Professor Smith. Physics 201 is taught by Professor Johnson. Mathematics 301 is taught by Professor Brown.\"\n",
        "\n",
        "# Extract triples using NLTK\n",
        "# triples = triples_extraction(paragraph)\n",
        "\n",
        "# Build a graph using the manually defined triples\n",
        "graph = build_networkx_graph(triples)\n",
        "\n",
        "# Visualize the graph\n",
        "save_graph_pyvis(graph)"
      ]
    },
    {
      "cell_type": "markdown",
      "metadata": {},
      "source": [
        "---\n",
        "This code is an example of how to extract information from a paragraph and represent it as a graph using NetworkX and PyVis libraries in Python.\n",
        "\n",
        "The paragraph contains information about students, courses, and instructors. The code manually defines the triples (subject, predicate, object) from the paragraph and builds a NetworkX graph from them. The `build_networkx_graph` function takes a list of triples and creates a NetworkX graph object. The `save_graph_pyvis` function takes a NetworkX graph object and visualizes it using PyVis, then saves it as an HTML file.\n",
        "\n",
        "The `paragraph` variable contains the text that needs to be extracted and represented as a graph. The `triples` variable contains the manually defined triples that represent the relationships between the entities in the paragraph.\n",
        "\n",
        "The `graph` variable is created by calling the `build_networkx_graph` function with the `triples` variable as an argument. This creates a NetworkX graph object that represents the relationships between the entities in the paragraph.\n",
        "\n",
        "Finally, the `save_graph_pyvis` function is called with the `graph` variable as an argument. This function visualizes the graph using PyVis and saves it as an HTML file named \"university_relationship_graph.html\"."
      ]
    }
  ],
  "metadata": {
    "colab": {
      "provenance": []
    },
    "kernelspec": {
      "display_name": "Python 3",
      "name": "python3"
    },
    "language_info": {
      "codemirror_mode": {
        "name": "ipython",
        "version": 3
      },
      "file_extension": ".py",
      "mimetype": "text/x-python",
      "name": "python",
      "nbconvert_exporter": "python",
      "pygments_lexer": "ipython3",
      "version": "3.9.13"
    }
  },
  "nbformat": 4,
  "nbformat_minor": 0
}
