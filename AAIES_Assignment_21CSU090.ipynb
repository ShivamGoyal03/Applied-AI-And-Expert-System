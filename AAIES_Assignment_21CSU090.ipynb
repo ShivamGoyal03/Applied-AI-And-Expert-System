{
 "cells": [
  {
   "cell_type": "code",
   "execution_count": 2,
   "id": "fdffe743",
   "metadata": {},
   "outputs": [
    {
     "name": "stdout",
     "output_type": "stream",
     "text": [
      "The algorithm to be used is BFS\n"
     ]
    }
   ],
   "source": [
    "def predict_bfs_or_dfs(graph, source, destination):\n",
    "    # Check if the source node is the destination node.\n",
    "    if source == destination:\n",
    "        return \"BFS\"\n",
    "\n",
    "    # Check if the graph contains cycles.\n",
    "    for node in graph:\n",
    "        for neighbor in graph[node]:\n",
    "            if neighbor in graph[neighbor]:\n",
    "                return \"DFS\"\n",
    "\n",
    "    # If the graph does not contain cycles, then BFS is the better choice.\n",
    "    return \"BFS\"\n",
    "\n",
    "\n",
    "def main():\n",
    "    graph = {\n",
    "        'A': ['B', 'C'],\n",
    "        'B': ['A', 'D','E'],\n",
    "        'C': ['A', 'D' , 'G'],\n",
    "        'D': ['B', 'C', 'F'],\n",
    "        'E': ['B'],\n",
    "        'F': ['D', 'G', 'H'],\n",
    "        'G': ['C','F'],\n",
    "        'H': ['F'],\n",
    "    }\n",
    "\n",
    "    source = 'A'\n",
    "    destination = 'D'\n",
    "\n",
    "    print(\"The algorithm to be used is {}\".format(predict_bfs_or_dfs(graph, source, destination)))\n",
    "\n",
    "\n",
    "if __name__ == \"__main__\":\n",
    "    main()"
   ]
  },
  {
   "cell_type": "code",
   "execution_count": null,
   "id": "98398d77",
   "metadata": {},
   "outputs": [],
   "source": []
  }
 ],
 "metadata": {
  "kernelspec": {
   "display_name": "Python 3 (ipykernel)",
   "language": "python",
   "name": "python3"
  },
  "language_info": {
   "codemirror_mode": {
    "name": "ipython",
    "version": 3
   },
   "file_extension": ".py",
   "mimetype": "text/x-python",
   "name": "python",
   "nbconvert_exporter": "python",
   "pygments_lexer": "ipython3",
   "version": "3.9.6"
  }
 },
 "nbformat": 4,
 "nbformat_minor": 5
}
